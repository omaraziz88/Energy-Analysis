{
 "cells": [
  {
   "cell_type": "code",
   "execution_count": 1,
   "metadata": {},
   "outputs": [],
   "source": [
    "import pandas as pd\n",
    "from sqlalchemy import create_engine"
   ]
  },
  {
   "cell_type": "code",
   "execution_count": 2,
   "metadata": {},
   "outputs": [],
   "source": [
    "url = \"https://developers.google.com/public-data/docs/canonical/countries_csv\""
   ]
  },
  {
   "cell_type": "code",
   "execution_count": 3,
   "metadata": {},
   "outputs": [
    {
     "data": {
      "text/plain": [
       "[           0           1            2                                 3\n",
       " 0    country    latitude    longitude                              name\n",
       " 1         AD   42.546245     1.601554                           Andorra\n",
       " 2         AE   23.424076    53.847818              United Arab Emirates\n",
       " 3         AF    33.93911    67.709953                       Afghanistan\n",
       " 4         AG   17.060816   -61.796428               Antigua and Barbuda\n",
       " 5         AI   18.220554   -63.068615                          Anguilla\n",
       " 6         AL   41.153332    20.168331                           Albania\n",
       " 7         AM   40.069099    45.038189                           Armenia\n",
       " 8         AN   12.226079   -69.060087              Netherlands Antilles\n",
       " 9         AO  -11.202692    17.873887                            Angola\n",
       " 10        AQ  -75.250973    -0.071389                        Antarctica\n",
       " 11        AR  -38.416097   -63.616672                         Argentina\n",
       " 12        AS  -14.270972  -170.132217                    American Samoa\n",
       " 13        AT   47.516231    14.550072                           Austria\n",
       " 14        AU  -25.274398   133.775136                         Australia\n",
       " 15        AW    12.52111   -69.968338                             Aruba\n",
       " 16        AZ   40.143105    47.576927                        Azerbaijan\n",
       " 17        BA   43.915886    17.679076            Bosnia and Herzegovina\n",
       " 18        BB   13.193887   -59.543198                          Barbados\n",
       " 19        BD   23.684994    90.356331                        Bangladesh\n",
       " 20        BE   50.503887     4.469936                           Belgium\n",
       " 21        BF   12.238333    -1.561593                      Burkina Faso\n",
       " 22        BG   42.733883     25.48583                          Bulgaria\n",
       " 23        BH   25.930414    50.637772                           Bahrain\n",
       " 24        BI   -3.373056    29.918886                           Burundi\n",
       " 25        BJ     9.30769     2.315834                             Benin\n",
       " 26        BM   32.321384    -64.75737                           Bermuda\n",
       " 27        BN    4.535277   114.727669                            Brunei\n",
       " 28        BO  -16.290154   -63.588653                           Bolivia\n",
       " 29        BR  -14.235004    -51.92528                            Brazil\n",
       " ..       ...         ...          ...                               ...\n",
       " 216       TL   -8.874217   125.727539                       Timor-Leste\n",
       " 217       TM   38.969719    59.556278                      Turkmenistan\n",
       " 218       TN   33.886917     9.537499                           Tunisia\n",
       " 219       TO  -21.178986  -175.198242                             Tonga\n",
       " 220       TR   38.963745    35.243322                            Turkey\n",
       " 221       TT   10.691803   -61.222503               Trinidad and Tobago\n",
       " 222       TV   -7.109535    177.64933                            Tuvalu\n",
       " 223       TW    23.69781   120.960515                            Taiwan\n",
       " 224       TZ   -6.369028    34.888822                          Tanzania\n",
       " 225       UA   48.379433     31.16558                           Ukraine\n",
       " 226       UG    1.373333    32.290275                            Uganda\n",
       " 227       UM         NaN          NaN       U.S. Minor Outlying Islands\n",
       " 228       US    37.09024   -95.712891                     United States\n",
       " 229       UY  -32.522779   -55.765835                           Uruguay\n",
       " 230       UZ   41.377491    64.585262                        Uzbekistan\n",
       " 231       VA   41.902916    12.453389                      Vatican City\n",
       " 232       VC   12.984305   -61.287228  Saint Vincent and the Grenadines\n",
       " 233       VE     6.42375    -66.58973                         Venezuela\n",
       " 234       VG   18.420695   -64.639968            British Virgin Islands\n",
       " 235       VI   18.335765   -64.896335               U.S. Virgin Islands\n",
       " 236       VN   14.058324   108.277199                           Vietnam\n",
       " 237       VU  -15.376706   166.959158                           Vanuatu\n",
       " 238       WF  -13.768752  -177.156097                 Wallis and Futuna\n",
       " 239       WS  -13.759029  -172.104629                             Samoa\n",
       " 240       XK   42.602636    20.902977                            Kosovo\n",
       " 241       YE   15.552727    48.516388                             Yemen\n",
       " 242       YT    -12.8275    45.166244                           Mayotte\n",
       " 243       ZA  -30.559482    22.937506                      South Africa\n",
       " 244       ZM  -13.133897    27.849332                            Zambia\n",
       " 245       ZW  -19.015438    29.154857                          Zimbabwe\n",
       " \n",
       " [246 rows x 4 columns]]"
      ]
     },
     "execution_count": 3,
     "metadata": {},
     "output_type": "execute_result"
    }
   ],
   "source": [
    "LonLatTable = pd.read_html(url)\n",
    "LonLatTable"
   ]
  },
  {
   "cell_type": "code",
   "execution_count": 4,
   "metadata": {},
   "outputs": [
    {
     "data": {
      "text/plain": [
       "list"
      ]
     },
     "execution_count": 4,
     "metadata": {},
     "output_type": "execute_result"
    }
   ],
   "source": [
    "type(LonLatTable)"
   ]
  },
  {
   "cell_type": "code",
   "execution_count": 5,
   "metadata": {},
   "outputs": [
    {
     "data": {
      "text/html": [
       "<div>\n",
       "<style scoped>\n",
       "    .dataframe tbody tr th:only-of-type {\n",
       "        vertical-align: middle;\n",
       "    }\n",
       "\n",
       "    .dataframe tbody tr th {\n",
       "        vertical-align: top;\n",
       "    }\n",
       "\n",
       "    .dataframe thead th {\n",
       "        text-align: right;\n",
       "    }\n",
       "</style>\n",
       "<table border=\"1\" class=\"dataframe\">\n",
       "  <thead>\n",
       "    <tr style=\"text-align: right;\">\n",
       "      <th></th>\n",
       "      <th>Abbreviation</th>\n",
       "      <th>Latitude</th>\n",
       "      <th>Longitude</th>\n",
       "      <th>Country</th>\n",
       "    </tr>\n",
       "  </thead>\n",
       "  <tbody>\n",
       "    <tr>\n",
       "      <th>0</th>\n",
       "      <td>country</td>\n",
       "      <td>latitude</td>\n",
       "      <td>longitude</td>\n",
       "      <td>name</td>\n",
       "    </tr>\n",
       "    <tr>\n",
       "      <th>1</th>\n",
       "      <td>AD</td>\n",
       "      <td>42.546245</td>\n",
       "      <td>1.601554</td>\n",
       "      <td>Andorra</td>\n",
       "    </tr>\n",
       "    <tr>\n",
       "      <th>2</th>\n",
       "      <td>AE</td>\n",
       "      <td>23.424076</td>\n",
       "      <td>53.847818</td>\n",
       "      <td>United Arab Emirates</td>\n",
       "    </tr>\n",
       "    <tr>\n",
       "      <th>3</th>\n",
       "      <td>AF</td>\n",
       "      <td>33.93911</td>\n",
       "      <td>67.709953</td>\n",
       "      <td>Afghanistan</td>\n",
       "    </tr>\n",
       "    <tr>\n",
       "      <th>4</th>\n",
       "      <td>AG</td>\n",
       "      <td>17.060816</td>\n",
       "      <td>-61.796428</td>\n",
       "      <td>Antigua and Barbuda</td>\n",
       "    </tr>\n",
       "  </tbody>\n",
       "</table>\n",
       "</div>"
      ],
      "text/plain": [
       "  Abbreviation   Latitude   Longitude               Country\n",
       "0      country   latitude   longitude                  name\n",
       "1           AD  42.546245    1.601554               Andorra\n",
       "2           AE  23.424076   53.847818  United Arab Emirates\n",
       "3           AF   33.93911   67.709953           Afghanistan\n",
       "4           AG  17.060816  -61.796428   Antigua and Barbuda"
      ]
     },
     "execution_count": 5,
     "metadata": {},
     "output_type": "execute_result"
    }
   ],
   "source": [
    "df = LonLatTable[0]\n",
    "df.columns = ['Abbreviation','Latitude','Longitude', 'Country']\n",
    "df.head()"
   ]
  },
  {
   "cell_type": "code",
   "execution_count": 6,
   "metadata": {},
   "outputs": [
    {
     "data": {
      "text/html": [
       "<div>\n",
       "<style scoped>\n",
       "    .dataframe tbody tr th:only-of-type {\n",
       "        vertical-align: middle;\n",
       "    }\n",
       "\n",
       "    .dataframe tbody tr th {\n",
       "        vertical-align: top;\n",
       "    }\n",
       "\n",
       "    .dataframe thead th {\n",
       "        text-align: right;\n",
       "    }\n",
       "</style>\n",
       "<table border=\"1\" class=\"dataframe\">\n",
       "  <thead>\n",
       "    <tr style=\"text-align: right;\">\n",
       "      <th></th>\n",
       "      <th>Abbreviation</th>\n",
       "      <th>Latitude</th>\n",
       "      <th>Longitude</th>\n",
       "      <th>Country</th>\n",
       "    </tr>\n",
       "  </thead>\n",
       "  <tbody>\n",
       "    <tr>\n",
       "      <th>2</th>\n",
       "      <td>AE</td>\n",
       "      <td>23.424076</td>\n",
       "      <td>53.847818</td>\n",
       "      <td>United Arab Emirates</td>\n",
       "    </tr>\n",
       "    <tr>\n",
       "      <th>3</th>\n",
       "      <td>AF</td>\n",
       "      <td>33.93911</td>\n",
       "      <td>67.709953</td>\n",
       "      <td>Afghanistan</td>\n",
       "    </tr>\n",
       "    <tr>\n",
       "      <th>4</th>\n",
       "      <td>AG</td>\n",
       "      <td>17.060816</td>\n",
       "      <td>-61.796428</td>\n",
       "      <td>Antigua and Barbuda</td>\n",
       "    </tr>\n",
       "    <tr>\n",
       "      <th>5</th>\n",
       "      <td>AI</td>\n",
       "      <td>18.220554</td>\n",
       "      <td>-63.068615</td>\n",
       "      <td>Anguilla</td>\n",
       "    </tr>\n",
       "    <tr>\n",
       "      <th>6</th>\n",
       "      <td>AL</td>\n",
       "      <td>41.153332</td>\n",
       "      <td>20.168331</td>\n",
       "      <td>Albania</td>\n",
       "    </tr>\n",
       "  </tbody>\n",
       "</table>\n",
       "</div>"
      ],
      "text/plain": [
       "  Abbreviation   Latitude   Longitude               Country\n",
       "2           AE  23.424076   53.847818  United Arab Emirates\n",
       "3           AF   33.93911   67.709953           Afghanistan\n",
       "4           AG  17.060816  -61.796428   Antigua and Barbuda\n",
       "5           AI  18.220554  -63.068615              Anguilla\n",
       "6           AL  41.153332   20.168331               Albania"
      ]
     },
     "execution_count": 6,
     "metadata": {},
     "output_type": "execute_result"
    }
   ],
   "source": [
    "df = df.iloc[2:]\n",
    "df.head()"
   ]
  },
  {
   "cell_type": "code",
   "execution_count": 7,
   "metadata": {},
   "outputs": [
    {
     "data": {
      "text/html": [
       "<div>\n",
       "<style scoped>\n",
       "    .dataframe tbody tr th:only-of-type {\n",
       "        vertical-align: middle;\n",
       "    }\n",
       "\n",
       "    .dataframe tbody tr th {\n",
       "        vertical-align: top;\n",
       "    }\n",
       "\n",
       "    .dataframe thead th {\n",
       "        text-align: right;\n",
       "    }\n",
       "</style>\n",
       "<table border=\"1\" class=\"dataframe\">\n",
       "  <thead>\n",
       "    <tr style=\"text-align: right;\">\n",
       "      <th></th>\n",
       "      <th>Abbreviation</th>\n",
       "      <th>Latitude</th>\n",
       "      <th>Longitude</th>\n",
       "    </tr>\n",
       "    <tr>\n",
       "      <th>Country</th>\n",
       "      <th></th>\n",
       "      <th></th>\n",
       "      <th></th>\n",
       "    </tr>\n",
       "  </thead>\n",
       "  <tbody>\n",
       "    <tr>\n",
       "      <th>United Arab Emirates</th>\n",
       "      <td>AE</td>\n",
       "      <td>23.424076</td>\n",
       "      <td>53.847818</td>\n",
       "    </tr>\n",
       "    <tr>\n",
       "      <th>Afghanistan</th>\n",
       "      <td>AF</td>\n",
       "      <td>33.93911</td>\n",
       "      <td>67.709953</td>\n",
       "    </tr>\n",
       "    <tr>\n",
       "      <th>Antigua and Barbuda</th>\n",
       "      <td>AG</td>\n",
       "      <td>17.060816</td>\n",
       "      <td>-61.796428</td>\n",
       "    </tr>\n",
       "    <tr>\n",
       "      <th>Anguilla</th>\n",
       "      <td>AI</td>\n",
       "      <td>18.220554</td>\n",
       "      <td>-63.068615</td>\n",
       "    </tr>\n",
       "    <tr>\n",
       "      <th>Albania</th>\n",
       "      <td>AL</td>\n",
       "      <td>41.153332</td>\n",
       "      <td>20.168331</td>\n",
       "    </tr>\n",
       "  </tbody>\n",
       "</table>\n",
       "</div>"
      ],
      "text/plain": [
       "                     Abbreviation   Latitude   Longitude\n",
       "Country                                                 \n",
       "United Arab Emirates           AE  23.424076   53.847818\n",
       "Afghanistan                    AF   33.93911   67.709953\n",
       "Antigua and Barbuda            AG  17.060816  -61.796428\n",
       "Anguilla                       AI  18.220554  -63.068615\n",
       "Albania                        AL  41.153332   20.168331"
      ]
     },
     "execution_count": 7,
     "metadata": {},
     "output_type": "execute_result"
    }
   ],
   "source": [
    "df.set_index('Country', inplace=True)\n",
    "df.head()"
   ]
  },
  {
   "cell_type": "code",
   "execution_count": null,
   "metadata": {},
   "outputs": [],
   "source": [
    "engine = create_engine(\"enter the team sql string here!\")"
   ]
  },
  {
   "cell_type": "code",
   "execution_count": null,
   "metadata": {},
   "outputs": [],
   "source": [
    "df=pd.DataFrame(['tables'],columns=['Country','Abbreviation','Latitude','Longitude'])\n",
    "df.to_sql(name='LatLon_Table'), con=engine,if_exists='append')"
   ]
  }
 ],
 "metadata": {
  "kernelspec": {
   "display_name": "Python 3",
   "language": "python",
   "name": "python3"
  },
  "language_info": {
   "codemirror_mode": {
    "name": "ipython",
    "version": 3
   },
   "file_extension": ".py",
   "mimetype": "text/x-python",
   "name": "python",
   "nbconvert_exporter": "python",
   "pygments_lexer": "ipython3",
   "version": "3.7.1"
  }
 },
 "nbformat": 4,
 "nbformat_minor": 2
}
